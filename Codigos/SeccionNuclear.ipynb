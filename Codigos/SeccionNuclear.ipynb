{
  "nbformat": 4,
  "nbformat_minor": 0,
  "metadata": {
    "colab": {
      "name": "SeccionNuclear.ipynb",
      "provenance": [],
      "collapsed_sections": [],
      "authorship_tag": "ABX9TyPm9an98A0wTrdSaipF35C1",
      "include_colab_link": true
    },
    "kernelspec": {
      "name": "python3",
      "display_name": "Python 3"
    },
    "language_info": {
      "name": "python"
    }
  },
  "cells": [
    {
      "cell_type": "markdown",
      "metadata": {
        "id": "view-in-github",
        "colab_type": "text"
      },
      "source": [
        "<a href=\"https://colab.research.google.com/github/krishnamoji/12C-alpha/blob/main/SeccionNuclear.ipynb\" target=\"_parent\"><img src=\"https://colab.research.google.com/assets/colab-badge.svg\" alt=\"Open In Colab\"/></a>"
      ]
    },
    {
      "cell_type": "markdown",
      "metadata": {
        "id": "fVKaNVdmxuK6"
      },
      "source": [
        "# Sección Nuclear"
      ]
    },
    {
      "cell_type": "markdown",
      "metadata": {
        "id": "ABL65NtM6-ta"
      },
      "source": [
        ""
      ]
    },
    {
      "cell_type": "markdown",
      "metadata": {
        "id": "wt_2a0ZxxzVg"
      },
      "source": [
        "## Librerias"
      ]
    },
    {
      "cell_type": "code",
      "metadata": {
        "id": "MpIqQdB7xvvY"
      },
      "source": [
        "import matplotlib.pyplot as plt\n",
        "from mpmath import *\n",
        "import numpy as np\n",
        "from scipy.special import legendre\n",
        "from scipy import linalg as lg"
      ],
      "execution_count": 5,
      "outputs": []
    },
    {
      "cell_type": "markdown",
      "metadata": {
        "id": "hKUmfVV-xv42"
      },
      "source": [
        "## Funciones"
      ]
    },
    {
      "cell_type": "code",
      "metadata": {
        "id": "i129onPFw14C"
      },
      "source": [
        "def f(r,R,a):  return (1+np.exp((r-R)/a))**(-1)\n",
        "\n",
        "def Vc(r,Rc):\n",
        "    K = 6*2*1.44 # K=6e^2 donde e^2=1.44 MeV fm\n",
        "    if r<Rc:  return K*(3*Rc**2-r**2) / (2*Rc**3) #K/Rc\n",
        "    else:     return K/r\n",
        "\n",
        "def U(r): #potencial\n",
        "    A  = 12 #12C\n",
        "    R  = 1.22 * A**(1/3) #A=A1**(1/3)+A2**(1/3)\n",
        "    a  = 0.76\n",
        "    Rp = 1.85 * A**(1/3)\n",
        "    ap = 0.47\n",
        "    Rc = 1.26 * A**(1/3)\n",
        "    return  Vc(r,Rc) - 108.1*f(r,R,a) - 16.9*1j*f(r,Rp,ap)\n",
        "\n",
        "def sigma(l,eta):\n",
        "    U = mp.gamma(1+l+eta*(1j)) #U=mp.gamma(1+l+eta*1j)\n",
        "    O = np.float64(phase(U))   #O=np.atan2(U.imag,U.real)  #O=atan2(U.imag/U.real) #np.angle\n",
        "    if O<0:  O = O + 2*np.pi\n",
        "    return O\n",
        "\n",
        "def sigma0(eta):\n",
        "    U = mp.gamma(1+eta*(1j))\n",
        "    return np.float64(mp.phase(U))\n",
        "\n",
        "def ruther(theta,a):\n",
        "    return (a**2/4) * (1/np.sin(theta/2)**4)\n",
        "\n",
        "def P(x,n):\n",
        "    leg = legendre(n)\n",
        "    Pn  = leg(x)\n",
        "    return Pn\n",
        "\n",
        "# ------------------------- ------------\n",
        "def funcion(x,a,k,n):\n",
        "    leg = np.polynomial.legendre.Legendre.basis(n)\n",
        "    return (-1)**(n-k+1)*(x/(a*X[k]))*np.sqrt(a*X[k]*(1-X[k]))*(leg((2*x/a)-1)/(x-a*X[k]))\n",
        "\n",
        "# ------------------------- ------------\n",
        "def fc(theta,a,eta):\n",
        "    return -(a/2)*np.exp(2*sigma0(eta)*(1j))*(np.exp(-1j*eta*np.log(np.sin(theta/2)**2))/np.sin(theta/2)**2)\n",
        "\n",
        "def fn(x,eta):\n",
        "    Fn = 0\n",
        "    for m in range(0,n):\n",
        "        Fn = Fn + (2*m+1)*P(np.cos(x),m)*np.exp(2*sigma(m,eta)*1j)*(S[m]-1) \n",
        "    return Fn / (2*k*1j)\n",
        "\n",
        "def seccion(theta):     return np.absolute(fc(theta,a,eta)+fn(theta,eta))**2"
      ],
      "execution_count": 6,
      "outputs": []
    },
    {
      "cell_type": "markdown",
      "metadata": {
        "id": "rJJQtBs3ylG2"
      },
      "source": [
        "System parameters"
      ]
    },
    {
      "cell_type": "code",
      "metadata": {
        "id": "RlTEGultylW-"
      },
      "source": [
        "Z1, Z2 = 6, 2   # Numeros \n",
        "A1, A2 = 4, 12  #12C, #particula alfa\n",
        "a = 15\n",
        "Cte = 20.736 * (A1+A2) / (A1*A2) #C=(hbar**2)/(2*m)\n",
        "# K=6e^2 donde e^2=1.44 MeV fm\n",
        "\n",
        "E = 139 * A2 / (A1+A2) \n",
        "k = np.sqrt(E/Cte)\n",
        "n = 60 #np.int(a*k)  #grado del polinomio)\n",
        "eta = (Z1*Z2*1.44) / (2*Cte*k)\n",
        "\n",
        "barrera = (Z1*Z2*1.44)/(1.3*(A1**(1/3)+A2**(1/3)))\n",
        "\n",
        "[X,W] = np.polynomial.legendre.leggauss(n) #Se guarda los ceros en X[i] y los pesos en W[i] # Estan entre (-1,1)\n",
        "X = [(X[i]+1)/2 for i in range(n)]"
      ],
      "execution_count": 7,
      "outputs": []
    },
    {
      "cell_type": "markdown",
      "metadata": {
        "id": "iTlHn8rkyckd"
      },
      "source": [
        "Creating arrays"
      ]
    },
    {
      "cell_type": "code",
      "metadata": {
        "id": "lAQ5W1cgyl5W"
      },
      "source": [
        "'''\n",
        "T = np.zeros((n,n))\n",
        "V = np.zeros((n,n))\n",
        "H = np.zeros((n,n))\n",
        "C = np.zeros((n,n))\n",
        "\n",
        "S    = zeros((n))\n",
        "ejeX = np.zeros((n))\n",
        "Real = np.zeros((n))\n",
        "Imag = np.zeros((n))\n",
        "abso = np.zeros((n))\n",
        "l = 0\n",
        "'''\n",
        "T=[]\n",
        "for i in range (n):    T.append([0]*n)\n",
        "V=[]\n",
        "for i in range (n):    V.append([0]*n)    \n",
        "H=[]\n",
        "for i in range (n):    H.append([0]*n)    \n",
        "C=[]\n",
        "for i in range (n):    C.append([0]*n) \n",
        "S    = [0]*n\n",
        "ejeX = [0]*n\n",
        "Real = [0]*n\n",
        "Imag = [0]*n\n",
        "abso = [0]*n\n",
        "#'''"
      ],
      "execution_count": 13,
      "outputs": []
    },
    {
      "cell_type": "markdown",
      "metadata": {
        "id": "JNZgIuhT0K1z"
      },
      "source": [
        "Operación de matrices\n",
        "\n",
        "$T = (\\frac{1}{a})$"
      ]
    },
    {
      "cell_type": "code",
      "metadata": {
        "id": "zM12s9BqyhSb"
      },
      "source": [
        "l = 0\n",
        "for b in range(0,n): \n",
        "  # ---------------------------\n",
        "    for i in range(0,n):\n",
        "        for m in range(0,n):\n",
        "            if(i==m):\n",
        "                T[i][m] = (1/a**2)*Cte*((4*n**2+4*n+3)*X[i]*(1-X[i])-6*X[i]+1)/(3*X[i]**2*(1-X[i])**2)\n",
        "                V[i][m] = U(X[i]*a)+Cte*l*(l+1)/((X[i]*a)**2) \n",
        "                H[i][m] = T[i][m]+V[i][m]\n",
        "                C[i][m] = H[i][m]-E\n",
        "            else:\n",
        "                T[i][m] = (1/a**2)*Cte*(((-1)**(i+m)/np.sqrt(X[i]*X[m]*(1-X[i])*(1-X[m])))*(n**2+n+1+(X[i]+X[m]-2*X[i]*X[m])/((X[i]-X[m])**2)-1/(1-X[i])-1/(1-X[m])))\n",
        "                V[i][m] = 0\n",
        "                H[i][m] = T[i][m]+V[i][m]\n",
        "                C[i][m] = H[i][m]\n",
        "    # ---------------------------\n",
        "    \n",
        "    inverse = lg.inv(C) #matriz inversa\n",
        "    \n",
        "    R = 0\n",
        "    for g in range(0,n):\n",
        "        for m in range(0,n):\n",
        "            R = R + (Cte/a)*funcion(a,a,g,n)*inverse[g][m]*funcion(a,a,m,n)\n",
        "    \n",
        "    eta = (Z1*Z2*1.44) / (2*Cte*k)    #1.28900677327098  #parametro de Sommerfeld\n",
        "    \n",
        "    #------ creando las funciones de Coulomb y sus derivadas  ------------------\n",
        "    F    = lambda x: coulombf(l,eta,x)\n",
        "    G    = lambda x: coulombg(l,eta,x)\n",
        "    derF = lambda x: diff(F,x)   # \n",
        "    derG = lambda x: diff(G,x)\n",
        "    \n",
        "    # ---------------\n",
        "    Hplus  = G(k*a)    + j*F(k*a)\n",
        "    Hminus = G(k*a)    - j*F(k*a)\n",
        "    Hpder  = derG(k*a) + j*derF(k*a)\n",
        "    Hmder  = derG(k*a) - j*derF(k*a)\n",
        "    \n",
        "    S[b]   = (Hminus - a*k*R*Hmder) / (Hplus - a*k*R*Hpder)\n",
        "    \n",
        "    l+=1"
      ],
      "execution_count": 14,
      "outputs": []
    },
    {
      "cell_type": "markdown",
      "metadata": {
        "id": "AqjKfCfIzcjj"
      },
      "source": [
        "## Plotting "
      ]
    },
    {
      "cell_type": "code",
      "metadata": {
        "colab": {
          "base_uri": "https://localhost:8080/",
          "height": 352
        },
        "id": "fNIYIpiazeHI",
        "outputId": "03e35c92-14a1-47ab-d94b-2417a2ffe2b8"
      },
      "source": [
        "# ----------- variables --------------------\n",
        "theta = np.linspace(0.1,np.pi/2,100)\n",
        "y1    = [seccion(theta[i])/ruther(theta[i],a) for i in range(len(theta))]\n",
        "\n",
        "# --------- plotting ------------------\n",
        "plt.semilogy(degrees(theta), y1)\n",
        "plt.yscale(\"log\")\n",
        "plt.ylim((0,100)); plt.xlim((0,80))\n",
        "plt.xlabel('Angulo ($^\\circ$)'); plt.ylabel('Sección Eficaz ()')\n",
        "plt.title('Sección Eficaz')\n",
        "plt.show()"
      ],
      "execution_count": 21,
      "outputs": [
        {
          "output_type": "stream",
          "name": "stderr",
          "text": [
            "/usr/local/lib/python3.7/dist-packages/ipykernel_launcher.py:8: UserWarning: Attempted to set non-positive bottom ylim on a log-scaled axis.\n",
            "Invalid limit will be ignored.\n",
            "  \n"
          ]
        },
        {
          "output_type": "display_data",
          "data": {
            "image/png": "[encoded data removed]",
            "text/plain": [
              "<Figure size 432x288 with 1 Axes>"
            ]
          },
          "metadata": {
            "needs_background": "light"
          }
        }
      ]
    },
    {
      "cell_type": "code",
      "metadata": {
        "id": "EqLm4Pb-2jD-"
      },
      "source": [
        ""
      ],
      "execution_count": null,
      "outputs": []
    }
  ]
}